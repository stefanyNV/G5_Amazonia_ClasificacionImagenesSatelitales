{
  "nbformat": 4,
  "nbformat_minor": 0,
  "metadata": {
    "colab": {
      "name": "Amazonia6_Predicciones.ipynb",
      "provenance": [],
      "collapsed_sections": []
    },
    "kernelspec": {
      "name": "python3",
      "display_name": "Python 3"
    }
  },
  "cells": [
    {
      "cell_type": "markdown",
      "metadata": {
        "id": "84mAsI4VK6XY"
      },
      "source": [
        "# Predicciones"
      ]
    },
    {
      "cell_type": "code",
      "metadata": {
        "colab": {
          "base_uri": "https://localhost:8080/"
        },
        "id": "5MaaEBQB6ywP",
        "outputId": "64b6df9a-f46c-482f-eb09-b261686f7e80"
      },
      "source": [
        "from google.colab import drive\n",
        "drive.mount('/content/drive')"
      ],
      "execution_count": 2,
      "outputs": [
        {
          "output_type": "stream",
          "text": [
            "Drive already mounted at /content/drive; to attempt to forcibly remount, call drive.mount(\"/content/drive\", force_remount=True).\n"
          ],
          "name": "stdout"
        }
      ]
    },
    {
      "cell_type": "code",
      "metadata": {
        "id": "T-mv1EnDEb9e"
      },
      "source": [
        "import sys\n",
        "from numpy import load"
      ],
      "execution_count": 3,
      "outputs": []
    },
    {
      "cell_type": "code",
      "metadata": {
        "id": "f5seF6VJE-F6"
      },
      "source": [
        "# from matplotlib import pyplot\n",
        "# from sklearn.model_selection import train_test_split\n",
        "# from keras import backend\n",
        "# from keras.layers import Dense\n",
        "# from keras.layers import Flatten\n",
        "# from keras.optimizers import SGD\n",
        "# from keras.applications.vgg16 import VGG16\n",
        "# from keras.models import Model\n",
        "# from keras.preprocessing.image import ImageDataGenerator"
      ],
      "execution_count": null,
      "outputs": []
    },
    {
      "cell_type": "markdown",
      "metadata": {
        "id": "SGt1pWCcegEx"
      },
      "source": [
        "# Cargamos 10 imagenes para predicción"
      ]
    },
    {
      "cell_type": "markdown",
      "metadata": {
        "id": "99OkTdEELftY"
      },
      "source": [
        "[40457, 38607, 34991, 185, 123, 22568, 11046, 50, 448, 997]"
      ]
    },
    {
      "cell_type": "markdown",
      "metadata": {
        "id": "SaPgOAe7LlHD"
      },
      "source": [
        "['train_dehazed_40457', 'train_dehazed_38607', 'train_dehazed_34991', 'train_dehazed_185', 'train_dehazed_123', 'train_dehazed_22568', 'train_dehazed_11046', 'train_dehazed_50 ', 'train_dehazed_448', 'train_dehazed_997']"
      ]
    },
    {
      "cell_type": "code",
      "metadata": {
        "colab": {
          "base_uri": "https://localhost:8080/"
        },
        "id": "cn0gB8GHgNmo",
        "outputId": "deb618d5-a880-4d6b-8916-b8b555607c1d"
      },
      "source": [
        "demo = load('/content/drive/MyDrive/Colab Notebooks/DiplomadoIA/M1_AplicacionesConVisionArtificial/Proyecto_Amazonia/Datos_Entrenamiento/planet_data_64_all_demo2.npz')\n",
        "X_demo, y_demo = demo['arr_0'], demo['arr_1']\n",
        "print('Loaded: ', X_demo.shape, y_demo.shape)"
      ],
      "execution_count": 4,
      "outputs": [
        {
          "output_type": "stream",
          "text": [
            "Loaded:  (10, 64, 64, 3) (10, 17)\n"
          ],
          "name": "stdout"
        }
      ]
    },
    {
      "cell_type": "code",
      "metadata": {
        "id": "bIO1KHRaiRn-",
        "colab": {
          "base_uri": "https://localhost:8080/"
        },
        "outputId": "64ad302c-54bc-477f-c8fd-992f75c86658"
      },
      "source": [
        "y_demo"
      ],
      "execution_count": 5,
      "outputs": [
        {
          "output_type": "execute_result",
          "data": {
            "text/plain": [
              "array([[0, 0, 0, 0, 0, 1, 0, 0, 0, 0, 0, 0, 1, 1, 1, 0, 1],\n",
              "       [1, 0, 0, 0, 1, 0, 0, 0, 0, 0, 0, 1, 1, 0, 0, 0, 0],\n",
              "       [1, 0, 0, 1, 0, 0, 0, 0, 1, 0, 1, 0, 1, 0, 0, 0, 0],\n",
              "       [1, 1, 0, 0, 0, 1, 0, 0, 1, 1, 0, 0, 1, 1, 0, 0, 1],\n",
              "       [1, 0, 1, 0, 0, 1, 0, 0, 0, 1, 0, 0, 1, 1, 0, 0, 0],\n",
              "       [1, 0, 0, 0, 0, 1, 0, 0, 1, 1, 0, 0, 1, 0, 0, 1, 0],\n",
              "       [1, 0, 0, 0, 0, 1, 0, 1, 0, 0, 0, 0, 1, 1, 0, 0, 1],\n",
              "       [0, 0, 0, 0, 0, 0, 1, 0, 0, 0, 0, 0, 0, 0, 0, 0, 0],\n",
              "       [1, 1, 0, 0, 0, 1, 0, 0, 0, 0, 0, 0, 1, 1, 0, 0, 1],\n",
              "       [0, 1, 0, 0, 0, 1, 0, 0, 0, 0, 0, 0, 1, 1, 1, 0, 1]], dtype=uint8)"
            ]
          },
          "metadata": {
            "tags": []
          },
          "execution_count": 5
        }
      ]
    },
    {
      "cell_type": "code",
      "metadata": {
        "id": "nahzrgEBiKMz",
        "colab": {
          "base_uri": "https://localhost:8080/"
        },
        "outputId": "5b3b7544-2010-4fbd-f9f1-8002e5576a06"
      },
      "source": [
        "# Centramos imagenes para predecir con TF\n",
        "X_demo = X_demo.astype('float32')\n",
        "X_demo = X_demo - [123.68, 116.779, 103.939]\n",
        "X_demo"
      ],
      "execution_count": 6,
      "outputs": [
        {
          "output_type": "execute_result",
          "data": {
            "text/plain": [
              "array([[[[-1.1068e+02, -8.0779e+01, -7.5939e+01],\n",
              "         [-1.1668e+02, -8.3779e+01, -8.1939e+01],\n",
              "         [-1.0568e+02, -7.4779e+01, -7.5939e+01],\n",
              "         ...,\n",
              "         [-6.9680e+01, -5.1779e+01, -7.0939e+01],\n",
              "         [-2.1680e+01, -2.8779e+01, -6.4939e+01],\n",
              "         [ 1.1320e+01, -1.5779e+01, -6.6939e+01]],\n",
              "\n",
              "        [[-1.1568e+02, -8.5779e+01, -7.8939e+01],\n",
              "         [-1.1668e+02, -8.7779e+01, -7.7939e+01],\n",
              "         [-1.1068e+02, -7.9779e+01, -7.9939e+01],\n",
              "         ...,\n",
              "         [-9.7680e+01, -7.6779e+01, -7.8939e+01],\n",
              "         [-8.1680e+01, -6.5779e+01, -8.1939e+01],\n",
              "         [-2.7680e+01, -4.0779e+01, -6.2939e+01]],\n",
              "\n",
              "        [[-1.1268e+02, -8.2779e+01, -7.9939e+01],\n",
              "         [-1.1568e+02, -8.5779e+01, -7.8939e+01],\n",
              "         [-1.0868e+02, -7.8779e+01, -7.5939e+01],\n",
              "         ...,\n",
              "         [-1.1168e+02, -8.3779e+01, -7.7939e+01],\n",
              "         [-1.1068e+02, -7.5779e+01, -7.7939e+01],\n",
              "         [-9.5680e+01, -7.3779e+01, -7.9939e+01]],\n",
              "\n",
              "        ...,\n",
              "\n",
              "        [[-9.4680e+01, -7.4779e+01, -7.1939e+01],\n",
              "         [-9.9680e+01, -7.5779e+01, -7.0939e+01],\n",
              "         [-1.0268e+02, -7.5779e+01, -7.4939e+01],\n",
              "         ...,\n",
              "         [-9.8680e+01, -7.4779e+01, -6.9939e+01],\n",
              "         [-1.0668e+02, -8.2779e+01, -7.9939e+01],\n",
              "         [-1.0568e+02, -8.0779e+01, -7.9939e+01]],\n",
              "\n",
              "        [[-9.3680e+01, -7.4779e+01, -7.3939e+01],\n",
              "         [-1.0468e+02, -8.0779e+01, -7.5939e+01],\n",
              "         [-1.0068e+02, -7.2779e+01, -7.6939e+01],\n",
              "         ...,\n",
              "         [-1.0368e+02, -7.8779e+01, -7.9939e+01],\n",
              "         [-1.0368e+02, -8.0779e+01, -7.8939e+01],\n",
              "         [-1.0968e+02, -8.5779e+01, -8.2939e+01]],\n",
              "\n",
              "        [[-7.2680e+01, -5.9779e+01, -6.0939e+01],\n",
              "         [-9.1680e+01, -7.1779e+01, -6.5939e+01],\n",
              "         [-8.5680e+01, -6.5779e+01, -6.9939e+01],\n",
              "         ...,\n",
              "         [-9.9680e+01, -7.3779e+01, -7.9939e+01],\n",
              "         [-9.4680e+01, -6.8779e+01, -7.7939e+01],\n",
              "         [-9.4680e+01, -6.8779e+01, -7.4939e+01]]],\n",
              "\n",
              "\n",
              "       [[[-1.1068e+02, -8.6779e+01, -8.9939e+01],\n",
              "         [-1.0268e+02, -7.8779e+01, -8.4939e+01],\n",
              "         [-1.0668e+02, -8.5779e+01, -8.9939e+01],\n",
              "         ...,\n",
              "         [-1.1068e+02, -8.2779e+01, -8.4939e+01],\n",
              "         [-1.0768e+02, -7.9779e+01, -8.3939e+01],\n",
              "         [-1.0268e+02, -8.1779e+01, -8.1939e+01]],\n",
              "\n",
              "        [[-1.0068e+02, -8.0779e+01, -8.4939e+01],\n",
              "         [-9.8680e+01, -7.8779e+01, -8.3939e+01],\n",
              "         [-1.0068e+02, -8.0779e+01, -8.4939e+01],\n",
              "         ...,\n",
              "         [-1.0968e+02, -8.1779e+01, -8.5939e+01],\n",
              "         [-1.0268e+02, -7.8779e+01, -8.3939e+01],\n",
              "         [-1.0168e+02, -8.3779e+01, -8.6939e+01]],\n",
              "\n",
              "        [[-1.1168e+02, -8.7779e+01, -9.0939e+01],\n",
              "         [-1.0668e+02, -8.6779e+01, -9.0939e+01],\n",
              "         [-1.0168e+02, -8.0779e+01, -8.2939e+01],\n",
              "         ...,\n",
              "         [-9.8680e+01, -7.7779e+01, -8.1939e+01],\n",
              "         [-1.0468e+02, -8.0779e+01, -8.5939e+01],\n",
              "         [-1.0768e+02, -8.2779e+01, -8.5939e+01]],\n",
              "\n",
              "        ...,\n",
              "\n",
              "        [[-1.1468e+02, -9.4779e+01, -9.0939e+01],\n",
              "         [-1.0768e+02, -8.9779e+01, -9.0939e+01],\n",
              "         [-8.6680e+01, -6.7779e+01, -7.4939e+01],\n",
              "         ...,\n",
              "         [-8.1680e+01, -5.9779e+01, -6.5939e+01],\n",
              "         [-4.1680e+01, -2.6779e+01, -3.7939e+01],\n",
              "         [-2.1680e+01, -1.1779e+01, -2.5939e+01]],\n",
              "\n",
              "        [[-1.0768e+02, -8.1779e+01, -8.7939e+01],\n",
              "         [-9.4680e+01, -7.5779e+01, -8.4939e+01],\n",
              "         [-6.7680e+01, -6.0779e+01, -7.1939e+01],\n",
              "         ...,\n",
              "         [-7.9680e+01, -5.9779e+01, -6.6939e+01],\n",
              "         [-1.6680e+01, -5.7790e+00, -1.7939e+01],\n",
              "         [ 1.6320e+01,  2.2221e+01,  5.0610e+00]],\n",
              "\n",
              "        [[-9.1680e+01, -7.8779e+01, -7.9939e+01],\n",
              "         [-9.1680e+01, -7.5779e+01, -8.3939e+01],\n",
              "         [-6.7680e+01, -6.0779e+01, -7.3939e+01],\n",
              "         ...,\n",
              "         [-2.4680e+01, -1.3779e+01, -2.5939e+01],\n",
              "         [ 6.3200e+00,  1.2221e+01, -4.9390e+00],\n",
              "         [ 2.2320e+01,  3.0221e+01,  1.1061e+01]]],\n",
              "\n",
              "\n",
              "       [[[-1.1668e+02, -8.2779e+01, -7.4939e+01],\n",
              "         [-1.1368e+02, -8.6779e+01, -7.4939e+01],\n",
              "         [-1.1068e+02, -8.5779e+01, -7.0939e+01],\n",
              "         ...,\n",
              "         [-1.1468e+02, -8.8779e+01, -7.9939e+01],\n",
              "         [-1.1268e+02, -7.9779e+01, -7.7939e+01],\n",
              "         [-1.0668e+02, -7.8779e+01, -7.4939e+01]],\n",
              "\n",
              "        [[-1.2068e+02, -8.8779e+01, -7.8939e+01],\n",
              "         [-1.1168e+02, -8.0779e+01, -6.7939e+01],\n",
              "         [-1.1668e+02, -8.7779e+01, -7.6939e+01],\n",
              "         ...,\n",
              "         [-1.1168e+02, -8.2779e+01, -7.2939e+01],\n",
              "         [-1.0768e+02, -8.4779e+01, -7.2939e+01],\n",
              "         [-1.1868e+02, -8.1779e+01, -7.6939e+01]],\n",
              "\n",
              "        [[-1.2368e+02, -9.8779e+01, -8.4939e+01],\n",
              "         [-1.2068e+02, -8.9779e+01, -7.6939e+01],\n",
              "         [-1.1768e+02, -8.6779e+01, -7.3939e+01],\n",
              "         ...,\n",
              "         [-1.1468e+02, -8.8779e+01, -8.1939e+01],\n",
              "         [-9.8680e+01, -7.6779e+01, -6.6939e+01],\n",
              "         [-1.2368e+02, -8.9779e+01, -8.1939e+01]],\n",
              "\n",
              "        ...,\n",
              "\n",
              "        [[-1.1468e+02, -8.2779e+01, -7.5939e+01],\n",
              "         [-1.0768e+02, -7.9779e+01, -7.5939e+01],\n",
              "         [-1.0568e+02, -7.5779e+01, -6.8939e+01],\n",
              "         ...,\n",
              "         [-1.0568e+02, -7.2779e+01, -7.0939e+01],\n",
              "         [-1.0068e+02, -7.0779e+01, -6.7939e+01],\n",
              "         [-9.7680e+01, -6.6779e+01, -6.7939e+01]],\n",
              "\n",
              "        [[-1.0968e+02, -7.0779e+01, -6.8939e+01],\n",
              "         [-1.0068e+02, -6.9779e+01, -6.9939e+01],\n",
              "         [-1.0968e+02, -7.4779e+01, -7.3939e+01],\n",
              "         ...,\n",
              "         [-1.0568e+02, -7.5779e+01, -7.2939e+01],\n",
              "         [-1.1368e+02, -8.0779e+01, -8.0939e+01],\n",
              "         [-1.0368e+02, -7.2779e+01, -7.5939e+01]],\n",
              "\n",
              "        [[-1.0368e+02, -7.0779e+01, -7.0939e+01],\n",
              "         [-9.9680e+01, -7.4779e+01, -7.3939e+01],\n",
              "         [-1.0468e+02, -7.1779e+01, -7.1939e+01],\n",
              "         ...,\n",
              "         [-1.0968e+02, -7.6779e+01, -7.2939e+01],\n",
              "         [-1.1568e+02, -8.0779e+01, -8.1939e+01],\n",
              "         [-1.1068e+02, -7.1779e+01, -7.9939e+01]]],\n",
              "\n",
              "\n",
              "       ...,\n",
              "\n",
              "\n",
              "       [[[-3.8680e+01,  2.9221e+01,  1.0610e+00],\n",
              "         [-5.7680e+01,  3.6221e+01, -1.9390e+00],\n",
              "         [-5.1680e+01,  2.2221e+01,  2.0610e+00],\n",
              "         ...,\n",
              "         [-5.4680e+01,  2.2221e+01, -1.9390e+00],\n",
              "         [-5.3680e+01,  1.2210e+00, -9.9390e+00],\n",
              "         [-5.5680e+01,  5.2210e+00, -5.9390e+00]],\n",
              "\n",
              "        [[-4.2680e+01,  2.6221e+01,  2.0610e+00],\n",
              "         [-5.2680e+01,  1.9221e+01, -1.9390e+00],\n",
              "         [-5.8680e+01,  1.8221e+01,  7.0610e+00],\n",
              "         ...,\n",
              "         [-4.2680e+01,  2.2221e+01, -4.9390e+00],\n",
              "         [-6.1680e+01,  3.1221e+01, -2.9390e+00],\n",
              "         [-5.8680e+01,  2.4221e+01, -9.9390e+00]],\n",
              "\n",
              "        [[-5.6680e+01,  1.7221e+01, -4.9390e+00],\n",
              "         [-4.5680e+01,  2.9221e+01, -6.9390e+00],\n",
              "         [-5.4680e+01,  2.1221e+01,  3.0610e+00],\n",
              "         ...,\n",
              "         [-5.4680e+01,  2.7221e+01,  1.0610e+00],\n",
              "         [-5.8680e+01,  1.4221e+01, -9.3900e-01],\n",
              "         [-6.1680e+01,  1.6221e+01, -9.3900e-01]],\n",
              "\n",
              "        ...,\n",
              "\n",
              "        [[-4.5680e+01,  5.8221e+01,  2.0061e+01],\n",
              "         [-2.3680e+01,  5.3221e+01,  4.0610e+00],\n",
              "         [-2.5680e+01,  3.5221e+01, -9.9390e+00],\n",
              "         ...,\n",
              "         [-1.7680e+01,  3.7221e+01,  2.0610e+00],\n",
              "         [-1.0680e+01,  4.0221e+01,  6.1000e-02],\n",
              "         [-9.6800e+00,  3.9221e+01,  6.0610e+00]],\n",
              "\n",
              "        [[-5.6680e+01,  4.1221e+01,  1.9061e+01],\n",
              "         [-2.4680e+01,  4.4221e+01,  6.0610e+00],\n",
              "         [-3.6680e+01,  3.7221e+01, -3.9390e+00],\n",
              "         ...,\n",
              "         [-1.6680e+01,  3.0221e+01,  6.0610e+00],\n",
              "         [-1.9680e+01,  4.7221e+01,  6.1000e-02],\n",
              "         [-2.0680e+01,  3.3221e+01, -5.9390e+00]],\n",
              "\n",
              "        [[-6.1680e+01,  3.3221e+01,  8.0610e+00],\n",
              "         [-5.6680e+01,  3.8221e+01,  3.0610e+00],\n",
              "         [-5.5680e+01,  3.9221e+01, -5.9390e+00],\n",
              "         ...,\n",
              "         [-1.3680e+01,  2.9221e+01,  4.0610e+00],\n",
              "         [-2.3680e+01,  4.8221e+01,  5.0610e+00],\n",
              "         [-2.1680e+01,  3.2221e+01, -8.9390e+00]]],\n",
              "\n",
              "\n",
              "       [[[ 1.6320e+01, -1.6779e+01, -6.4939e+01],\n",
              "         [ 1.8320e+01, -1.1779e+01, -5.0939e+01],\n",
              "         [ 4.3200e+00, -2.2779e+01, -7.0939e+01],\n",
              "         ...,\n",
              "         [ 7.3320e+01,  3.9221e+01, -9.9390e+00],\n",
              "         [ 7.3320e+01,  3.7221e+01, -1.7939e+01],\n",
              "         [ 6.2320e+01,  1.9221e+01, -4.0939e+01]],\n",
              "\n",
              "        [[ 2.3320e+01, -1.7790e+00, -4.5939e+01],\n",
              "         [ 5.2320e+01,  2.4221e+01, -1.8939e+01],\n",
              "         [ 5.8320e+01,  3.0221e+01, -2.4939e+01],\n",
              "         ...,\n",
              "         [ 6.4320e+01,  3.1221e+01, -2.4939e+01],\n",
              "         [ 6.6320e+01,  2.0221e+01, -4.4939e+01],\n",
              "         [ 7.0320e+01,  1.2221e+01, -5.6939e+01]],\n",
              "\n",
              "        [[ 8.3200e+00, -9.7790e+00, -5.3939e+01],\n",
              "         [ 2.9320e+01,  5.2210e+00, -4.5939e+01],\n",
              "         [ 6.2320e+01,  3.2221e+01, -2.2939e+01],\n",
              "         ...,\n",
              "         [ 6.1320e+01,  1.2221e+01, -4.9939e+01],\n",
              "         [ 5.7320e+01,  7.2210e+00, -5.6939e+01],\n",
              "         [ 5.3320e+01,  7.2210e+00, -4.9939e+01]],\n",
              "\n",
              "        ...,\n",
              "\n",
              "        [[-1.1768e+02, -9.7779e+01, -7.5939e+01],\n",
              "         [-1.1168e+02, -9.0779e+01, -7.4939e+01],\n",
              "         [-1.1468e+02, -9.4779e+01, -7.5939e+01],\n",
              "         ...,\n",
              "         [-1.1168e+02, -8.6779e+01, -7.3939e+01],\n",
              "         [-1.0668e+02, -8.0779e+01, -6.9939e+01],\n",
              "         [-1.0368e+02, -8.0779e+01, -6.8939e+01]],\n",
              "\n",
              "        [[-1.1468e+02, -9.4779e+01, -7.5939e+01],\n",
              "         [-1.1568e+02, -9.6779e+01, -7.1939e+01],\n",
              "         [-1.1668e+02, -9.6779e+01, -7.4939e+01],\n",
              "         ...,\n",
              "         [-1.1168e+02, -8.6779e+01, -7.3939e+01],\n",
              "         [-1.0968e+02, -8.6779e+01, -7.4939e+01],\n",
              "         [-9.9680e+01, -7.8779e+01, -6.5939e+01]],\n",
              "\n",
              "        [[-1.1568e+02, -9.4779e+01, -7.0939e+01],\n",
              "         [-1.1268e+02, -9.2779e+01, -7.1939e+01],\n",
              "         [-1.0768e+02, -8.7779e+01, -6.8939e+01],\n",
              "         ...,\n",
              "         [-1.0868e+02, -8.6779e+01, -7.0939e+01],\n",
              "         [-1.0368e+02, -8.0779e+01, -6.7939e+01],\n",
              "         [-1.0168e+02, -8.0779e+01, -6.7939e+01]]],\n",
              "\n",
              "\n",
              "       [[[-8.1680e+01, -6.8779e+01, -8.1939e+01],\n",
              "         [-8.7680e+01, -7.5779e+01, -8.5939e+01],\n",
              "         [-8.3680e+01, -6.8779e+01, -7.9939e+01],\n",
              "         ...,\n",
              "         [-5.8680e+01, -7.4779e+01, -9.5939e+01],\n",
              "         [-7.5680e+01, -7.9779e+01, -9.6939e+01],\n",
              "         [-7.6800e+00, -3.5779e+01, -6.4939e+01]],\n",
              "\n",
              "        [[-8.1680e+01, -7.2779e+01, -8.0939e+01],\n",
              "         [-8.3680e+01, -7.2779e+01, -8.6939e+01],\n",
              "         [-8.1680e+01, -6.7779e+01, -8.5939e+01],\n",
              "         ...,\n",
              "         [-7.9680e+01, -7.7779e+01, -8.4939e+01],\n",
              "         [-1.0268e+02, -9.3779e+01, -9.4939e+01],\n",
              "         [-8.4680e+01, -8.0779e+01, -8.4939e+01]],\n",
              "\n",
              "        [[-9.6680e+01, -8.1779e+01, -8.9939e+01],\n",
              "         [-8.2680e+01, -6.9779e+01, -8.2939e+01],\n",
              "         [-7.7680e+01, -6.7779e+01, -8.5939e+01],\n",
              "         ...,\n",
              "         [-9.1680e+01, -8.8779e+01, -8.4939e+01],\n",
              "         [-1.0168e+02, -9.3779e+01, -8.6939e+01],\n",
              "         [-1.1268e+02, -9.3779e+01, -9.2939e+01]],\n",
              "\n",
              "        ...,\n",
              "\n",
              "        [[-1.0068e+02, -8.0779e+01, -8.4939e+01],\n",
              "         [-9.3680e+01, -7.8779e+01, -7.8939e+01],\n",
              "         [-1.0068e+02, -8.7779e+01, -8.8939e+01],\n",
              "         ...,\n",
              "         [-7.6680e+01, -7.6779e+01, -9.1939e+01],\n",
              "         [-1.7680e+01, -4.6779e+01, -6.5939e+01],\n",
              "         [ 2.8320e+01, -1.2779e+01, -4.8939e+01]],\n",
              "\n",
              "        [[-9.6680e+01, -8.2779e+01, -8.5939e+01],\n",
              "         [-9.5680e+01, -8.1779e+01, -8.6939e+01],\n",
              "         [-9.7680e+01, -9.2779e+01, -9.4939e+01],\n",
              "         ...,\n",
              "         [-9.8680e+01, -7.9779e+01, -8.0939e+01],\n",
              "         [-8.5680e+01, -8.2779e+01, -9.6939e+01],\n",
              "         [ 2.7320e+01, -1.5779e+01, -5.1939e+01]],\n",
              "\n",
              "        [[-9.5680e+01, -8.2779e+01, -8.1939e+01],\n",
              "         [-9.0680e+01, -7.4779e+01, -8.2939e+01],\n",
              "         [-5.8680e+01, -5.4779e+01, -5.8939e+01],\n",
              "         ...,\n",
              "         [-7.5680e+01, -7.1779e+01, -7.3939e+01],\n",
              "         [-9.2680e+01, -8.8779e+01, -9.0939e+01],\n",
              "         [-6.4680e+01, -7.3779e+01, -8.6939e+01]]]])"
            ]
          },
          "metadata": {
            "tags": []
          },
          "execution_count": 6
        }
      ]
    },
    {
      "cell_type": "markdown",
      "metadata": {
        "id": "RgPDMmZxMK3m"
      },
      "source": [
        "# Cargamos el modelo y obtenemos probabilidades predichas"
      ]
    },
    {
      "cell_type": "markdown",
      "metadata": {
        "id": "71TY8IFm6lQ-"
      },
      "source": [
        "## VGG-16"
      ]
    },
    {
      "cell_type": "code",
      "metadata": {
        "id": "2WBAp1gXehm2"
      },
      "source": [
        "from keras.models import load_model\n",
        "model_64_all_vgg16 = load_model('/content/drive/MyDrive/Colab Notebooks/DiplomadoIA/M1_AplicacionesConVisionArtificial/Proyecto_Amazonia/Datos_Entrenamiento/modelo64_2_vgg16_gpu_final2.h5')\n",
        "model_64_2_vgg16 = load_model('/content/drive/MyDrive/Colab Notebooks/DiplomadoIA/M1_AplicacionesConVisionArtificial/Proyecto_Amazonia/Datos_Entrenamiento/otras_pruebas/modelo64_2_vgg16_gpu_final.h5')"
      ],
      "execution_count": 7,
      "outputs": []
    },
    {
      "cell_type": "code",
      "metadata": {
        "id": "wu2OEmrSokDQ"
      },
      "source": [
        "import numpy as np"
      ],
      "execution_count": 9,
      "outputs": []
    },
    {
      "cell_type": "code",
      "metadata": {
        "colab": {
          "base_uri": "https://localhost:8080/"
        },
        "id": "0LrNVXuaQK9Y",
        "outputId": "d192b018-9627-40a5-b267-ac31462a0db6"
      },
      "source": [
        "# Predicciones con el modelo al 4%\n",
        "result_demo_64_2 = model_64_2_vgg16.predict(X_demo)\n",
        "np.int_(result_demo_64_2.round())"
      ],
      "execution_count": 10,
      "outputs": [
        {
          "output_type": "execute_result",
          "data": {
            "text/plain": [
              "array([[0, 0, 0, 0, 0, 1, 0, 0, 0, 0, 0, 0, 1, 1, 0, 0, 1],\n",
              "       [0, 0, 0, 0, 0, 0, 0, 0, 0, 0, 0, 1, 1, 1, 0, 0, 0],\n",
              "       [0, 0, 0, 0, 0, 0, 0, 0, 0, 0, 0, 1, 1, 0, 0, 0, 0],\n",
              "       [0, 0, 0, 0, 0, 1, 0, 0, 0, 0, 0, 0, 1, 0, 0, 0, 0],\n",
              "       [1, 0, 0, 0, 0, 1, 0, 0, 0, 1, 0, 0, 1, 1, 0, 0, 0],\n",
              "       [1, 0, 0, 0, 0, 1, 0, 0, 1, 0, 0, 0, 1, 0, 0, 0, 0],\n",
              "       [1, 0, 0, 0, 0, 1, 0, 0, 0, 1, 0, 0, 1, 1, 0, 0, 0],\n",
              "       [0, 0, 0, 0, 0, 0, 1, 0, 0, 0, 0, 0, 0, 0, 0, 0, 1],\n",
              "       [1, 0, 0, 0, 0, 1, 0, 0, 0, 1, 0, 0, 1, 1, 0, 0, 0],\n",
              "       [0, 0, 0, 0, 0, 1, 0, 0, 0, 1, 0, 0, 1, 1, 0, 0, 1]])"
            ]
          },
          "metadata": {
            "tags": []
          },
          "execution_count": 10
        }
      ]
    },
    {
      "cell_type": "code",
      "metadata": {
        "colab": {
          "base_uri": "https://localhost:8080/"
        },
        "id": "L2Dek0OWQNUI",
        "outputId": "24b005fb-07e1-4e9b-b9ae-1c1089e28a9f"
      },
      "source": [
        "# Predicciones con el modelo al 100%\n",
        "result_demo_64_vgg16 = model_64_all_vgg16.predict(X_demo)\n",
        "np.int_(result_demo_64_vgg16.round())"
      ],
      "execution_count": 11,
      "outputs": [
        {
          "output_type": "execute_result",
          "data": {
            "text/plain": [
              "array([[0, 0, 0, 0, 0, 1, 0, 0, 0, 0, 0, 0, 1, 0, 0, 0, 1],\n",
              "       [1, 0, 0, 0, 0, 1, 0, 0, 1, 0, 0, 0, 1, 0, 0, 0, 0],\n",
              "       [0, 0, 0, 0, 0, 1, 0, 0, 0, 0, 0, 0, 1, 0, 0, 0, 0],\n",
              "       [0, 1, 0, 0, 0, 1, 0, 0, 0, 0, 0, 0, 1, 0, 0, 0, 1],\n",
              "       [1, 0, 0, 0, 0, 1, 0, 0, 0, 1, 0, 0, 1, 1, 0, 0, 0],\n",
              "       [1, 0, 0, 0, 0, 1, 0, 0, 1, 1, 0, 0, 1, 0, 0, 0, 0],\n",
              "       [1, 0, 0, 0, 0, 1, 0, 0, 0, 0, 0, 0, 1, 1, 0, 0, 1],\n",
              "       [0, 0, 0, 0, 0, 0, 0, 0, 0, 0, 1, 0, 1, 0, 0, 0, 0],\n",
              "       [1, 0, 0, 0, 0, 1, 0, 0, 0, 0, 0, 0, 1, 1, 0, 0, 0],\n",
              "       [0, 1, 0, 0, 0, 1, 0, 0, 0, 0, 0, 0, 1, 1, 0, 0, 1]])"
            ]
          },
          "metadata": {
            "tags": []
          },
          "execution_count": 11
        }
      ]
    },
    {
      "cell_type": "markdown",
      "metadata": {
        "id": "peYFw1Cr6oll"
      },
      "source": [
        "## VGG-19"
      ]
    },
    {
      "cell_type": "code",
      "metadata": {
        "id": "9S8aFmmT3v4Y"
      },
      "source": [
        "model_64_all_vgg19 = load_model('/content/drive/MyDrive/Colab Notebooks/DiplomadoIA/M1_AplicacionesConVisionArtificial/Proyecto_Amazonia/Datos_Entrenamiento/mf_vgg19.h5')\n",
        "model_64_2_vgg19 = load_model('/content/drive/MyDrive/Colab Notebooks/DiplomadoIA/M1_AplicacionesConVisionArtificial/Proyecto_Amazonia/Datos_Entrenamiento/mf_vgg19_2.h5')"
      ],
      "execution_count": 12,
      "outputs": []
    },
    {
      "cell_type": "code",
      "metadata": {
        "colab": {
          "base_uri": "https://localhost:8080/"
        },
        "id": "Q9vS0dc2izgK",
        "outputId": "7eaa5b48-cbec-4532-a3ab-2367c8ad032d"
      },
      "source": [
        "# Predicciones con el modelo al 100%\n",
        "result_demo_64_vgg19 = model_64_all_vgg19.predict(X_demo)\n",
        "np.int_(result_demo_64_vgg19.round())"
      ],
      "execution_count": 13,
      "outputs": [
        {
          "output_type": "execute_result",
          "data": {
            "text/plain": [
              "array([[1, 0, 0, 0, 0, 1, 0, 0, 0, 0, 0, 0, 1, 1, 0, 0, 1],\n",
              "       [0, 0, 0, 0, 0, 0, 0, 0, 0, 0, 0, 1, 1, 0, 0, 0, 0],\n",
              "       [0, 0, 0, 0, 0, 1, 0, 0, 0, 0, 0, 0, 1, 0, 0, 0, 0],\n",
              "       [0, 1, 0, 0, 0, 1, 0, 0, 0, 1, 0, 0, 1, 1, 0, 0, 1],\n",
              "       [1, 0, 0, 0, 0, 1, 0, 0, 0, 0, 0, 0, 1, 1, 0, 0, 0],\n",
              "       [1, 0, 0, 0, 0, 1, 0, 0, 1, 0, 0, 0, 1, 0, 0, 0, 0],\n",
              "       [0, 0, 0, 0, 0, 1, 0, 1, 0, 0, 0, 0, 1, 1, 0, 0, 0],\n",
              "       [0, 0, 0, 0, 0, 0, 1, 0, 0, 0, 0, 0, 0, 0, 0, 0, 0],\n",
              "       [1, 0, 0, 0, 0, 1, 0, 0, 0, 0, 0, 0, 1, 1, 0, 0, 1],\n",
              "       [0, 1, 0, 0, 0, 1, 0, 0, 0, 0, 0, 0, 1, 0, 0, 0, 1]])"
            ]
          },
          "metadata": {
            "tags": []
          },
          "execution_count": 13
        }
      ]
    },
    {
      "cell_type": "code",
      "metadata": {
        "colab": {
          "base_uri": "https://localhost:8080/"
        },
        "id": "qKpKX6Zo4Dlf",
        "outputId": "a82c38a7-1fa3-49e6-dc3e-24f5c6c79bdc"
      },
      "source": [
        "# Predicciones con el modelo al 4%\n",
        "result_demo_64_2_vgg19 = model_64_2_vgg19.predict(X_demo)\n",
        "np.int_(result_demo_64_2_vgg19.round())"
      ],
      "execution_count": 14,
      "outputs": [
        {
          "output_type": "execute_result",
          "data": {
            "text/plain": [
              "array([[0, 0, 0, 0, 0, 1, 0, 0, 0, 0, 0, 0, 1, 1, 0, 0, 1],\n",
              "       [0, 0, 0, 0, 0, 0, 0, 0, 0, 0, 0, 1, 1, 0, 0, 0, 0],\n",
              "       [0, 0, 0, 0, 0, 1, 0, 0, 0, 0, 0, 0, 1, 0, 0, 0, 0],\n",
              "       [1, 0, 0, 0, 0, 1, 0, 0, 0, 1, 0, 0, 1, 1, 0, 0, 0],\n",
              "       [1, 0, 0, 0, 0, 1, 0, 0, 0, 1, 0, 0, 1, 1, 0, 0, 1],\n",
              "       [1, 0, 0, 0, 0, 1, 0, 0, 0, 0, 0, 0, 1, 1, 0, 0, 0],\n",
              "       [0, 1, 0, 0, 0, 1, 0, 0, 0, 0, 0, 0, 1, 1, 0, 0, 0],\n",
              "       [0, 0, 0, 0, 0, 0, 1, 0, 0, 0, 0, 0, 0, 0, 0, 0, 0],\n",
              "       [0, 0, 0, 0, 0, 1, 0, 0, 0, 0, 0, 0, 1, 1, 0, 0, 1],\n",
              "       [0, 1, 0, 0, 0, 1, 0, 0, 0, 0, 0, 0, 1, 1, 0, 0, 0]])"
            ]
          },
          "metadata": {
            "tags": []
          },
          "execution_count": 14
        }
      ]
    },
    {
      "cell_type": "markdown",
      "metadata": {
        "id": "FHRp_vFj6vQ3"
      },
      "source": [
        "## ResNet50"
      ]
    },
    {
      "cell_type": "code",
      "metadata": {
        "id": "6ajVjyoe5vcT"
      },
      "source": [
        "model_64_all_resnet50 = load_model('/content/drive/MyDrive/Colab Notebooks/DiplomadoIA/M1_AplicacionesConVisionArtificial/Proyecto_Amazonia/Datos_Entrenamiento/mf_resnet50.h5')\n",
        "model_64_2_resnet50 = load_model('/content/drive/MyDrive/Colab Notebooks/DiplomadoIA/M1_AplicacionesConVisionArtificial/Proyecto_Amazonia/Datos_Entrenamiento/mf_resnet50_2.h5')"
      ],
      "execution_count": 16,
      "outputs": []
    },
    {
      "cell_type": "code",
      "metadata": {
        "colab": {
          "base_uri": "https://localhost:8080/"
        },
        "id": "QmR3jt-H6-t1",
        "outputId": "1c2facd7-dfb0-4087-a544-c22ac67f26c2"
      },
      "source": [
        "# Predicciones con el modelo al 100%\n",
        "result_demo_64_resnet50 = model_64_all_resnet50.predict(X_demo)\n",
        "np.int_(result_demo_64_resnet50.round())"
      ],
      "execution_count": 17,
      "outputs": [
        {
          "output_type": "stream",
          "text": [
            "WARNING:tensorflow:5 out of the last 6 calls to <function Model.make_predict_function.<locals>.predict_function at 0x7f9b07629488> triggered tf.function retracing. Tracing is expensive and the excessive number of tracings could be due to (1) creating @tf.function repeatedly in a loop, (2) passing tensors with different shapes, (3) passing Python objects instead of tensors. For (1), please define your @tf.function outside of the loop. For (2), @tf.function has experimental_relax_shapes=True option that relaxes argument shapes that can avoid unnecessary retracing. For (3), please refer to https://www.tensorflow.org/tutorials/customization/performance#python_or_tensor_args and https://www.tensorflow.org/api_docs/python/tf/function for  more details.\n"
          ],
          "name": "stdout"
        },
        {
          "output_type": "execute_result",
          "data": {
            "text/plain": [
              "array([[1, 0, 0, 0, 0, 1, 0, 0, 0, 0, 0, 0, 1, 0, 0, 0, 1],\n",
              "       [1, 0, 0, 0, 0, 1, 0, 0, 1, 0, 0, 0, 1, 0, 0, 0, 0],\n",
              "       [0, 0, 0, 0, 0, 1, 0, 0, 0, 0, 0, 0, 1, 0, 0, 0, 0],\n",
              "       [0, 0, 0, 0, 0, 1, 0, 0, 0, 0, 0, 0, 1, 0, 0, 0, 0],\n",
              "       [1, 0, 0, 0, 0, 1, 0, 0, 0, 0, 0, 0, 1, 1, 0, 0, 0],\n",
              "       [1, 0, 0, 0, 0, 1, 0, 0, 1, 0, 0, 0, 1, 0, 0, 0, 0],\n",
              "       [1, 0, 0, 0, 0, 1, 0, 0, 0, 0, 0, 0, 1, 0, 0, 0, 0],\n",
              "       [0, 0, 0, 0, 0, 1, 0, 0, 0, 0, 1, 0, 1, 0, 0, 0, 0],\n",
              "       [1, 0, 0, 0, 0, 1, 0, 0, 0, 0, 0, 0, 1, 1, 0, 0, 0],\n",
              "       [0, 0, 0, 0, 0, 1, 0, 0, 0, 0, 0, 0, 1, 0, 0, 0, 0]])"
            ]
          },
          "metadata": {
            "tags": []
          },
          "execution_count": 17
        }
      ]
    },
    {
      "cell_type": "code",
      "metadata": {
        "colab": {
          "base_uri": "https://localhost:8080/"
        },
        "id": "GCGd8rMN6-t2",
        "outputId": "94e7b960-fad9-4a23-eb82-780153f8549e"
      },
      "source": [
        "# Predicciones con el modelo al 4%\n",
        "result_demo_64_2_resnet50 = model_64_2_resnet50.predict(X_demo)\n",
        "np.int_(result_demo_64_2_resnet50.round())"
      ],
      "execution_count": 18,
      "outputs": [
        {
          "output_type": "stream",
          "text": [
            "WARNING:tensorflow:6 out of the last 7 calls to <function Model.make_predict_function.<locals>.predict_function at 0x7f9b06c68ae8> triggered tf.function retracing. Tracing is expensive and the excessive number of tracings could be due to (1) creating @tf.function repeatedly in a loop, (2) passing tensors with different shapes, (3) passing Python objects instead of tensors. For (1), please define your @tf.function outside of the loop. For (2), @tf.function has experimental_relax_shapes=True option that relaxes argument shapes that can avoid unnecessary retracing. For (3), please refer to https://www.tensorflow.org/tutorials/customization/performance#python_or_tensor_args and https://www.tensorflow.org/api_docs/python/tf/function for  more details.\n"
          ],
          "name": "stdout"
        },
        {
          "output_type": "execute_result",
          "data": {
            "text/plain": [
              "array([[1, 0, 0, 0, 0, 1, 0, 0, 0, 0, 0, 0, 1, 0, 0, 0, 1],\n",
              "       [0, 0, 0, 0, 0, 0, 0, 0, 0, 0, 0, 1, 1, 0, 0, 0, 1],\n",
              "       [0, 0, 0, 0, 0, 0, 0, 0, 0, 0, 0, 0, 1, 0, 0, 0, 0],\n",
              "       [0, 0, 0, 0, 0, 0, 1, 0, 0, 0, 0, 0, 0, 0, 0, 0, 0],\n",
              "       [1, 0, 0, 0, 0, 1, 0, 0, 0, 1, 0, 0, 1, 1, 0, 0, 0],\n",
              "       [1, 0, 0, 0, 0, 1, 0, 0, 1, 0, 0, 0, 1, 1, 0, 0, 0],\n",
              "       [1, 0, 0, 0, 0, 1, 0, 0, 0, 0, 0, 0, 1, 0, 0, 0, 1],\n",
              "       [0, 0, 0, 0, 0, 1, 0, 0, 0, 0, 1, 0, 1, 0, 0, 0, 0],\n",
              "       [1, 0, 0, 0, 0, 1, 0, 0, 0, 0, 0, 0, 1, 0, 0, 0, 1],\n",
              "       [1, 0, 0, 0, 0, 1, 0, 0, 0, 1, 0, 0, 1, 0, 0, 0, 0]])"
            ]
          },
          "metadata": {
            "tags": []
          },
          "execution_count": 18
        }
      ]
    },
    {
      "cell_type": "markdown",
      "metadata": {
        "id": "Q7s1MXiE6yEf"
      },
      "source": [
        "## ResNet101"
      ]
    },
    {
      "cell_type": "code",
      "metadata": {
        "id": "exalb1kY6Vga"
      },
      "source": [
        "model_64_all_resnet101 = load_model('/content/drive/MyDrive/Colab Notebooks/DiplomadoIA/M1_AplicacionesConVisionArtificial/Proyecto_Amazonia/Datos_Entrenamiento/mf_resnet101.h5')\n",
        "model_64_2_resnet101 = load_model('/content/drive/MyDrive/Colab Notebooks/DiplomadoIA/M1_AplicacionesConVisionArtificial/Proyecto_Amazonia/Datos_Entrenamiento/mf_resnet101_2.h5')"
      ],
      "execution_count": 21,
      "outputs": []
    },
    {
      "cell_type": "code",
      "metadata": {
        "colab": {
          "base_uri": "https://localhost:8080/"
        },
        "id": "sy5vS3zk76gi",
        "outputId": "4be410b1-2cc4-4ca7-cbfa-fb4bcd17e606"
      },
      "source": [
        "# Predicciones con el modelo al 100%\n",
        "result_demo_64_resnet101 = model_64_all_resnet101.predict(X_demo)\n",
        "np.int_(result_demo_64_resnet101.round())"
      ],
      "execution_count": 22,
      "outputs": [
        {
          "output_type": "stream",
          "text": [
            "WARNING:tensorflow:7 out of the last 8 calls to <function Model.make_predict_function.<locals>.predict_function at 0x7f9b059dcae8> triggered tf.function retracing. Tracing is expensive and the excessive number of tracings could be due to (1) creating @tf.function repeatedly in a loop, (2) passing tensors with different shapes, (3) passing Python objects instead of tensors. For (1), please define your @tf.function outside of the loop. For (2), @tf.function has experimental_relax_shapes=True option that relaxes argument shapes that can avoid unnecessary retracing. For (3), please refer to https://www.tensorflow.org/tutorials/customization/performance#python_or_tensor_args and https://www.tensorflow.org/api_docs/python/tf/function for  more details.\n"
          ],
          "name": "stdout"
        },
        {
          "output_type": "execute_result",
          "data": {
            "text/plain": [
              "array([[1, 0, 0, 0, 0, 1, 0, 0, 0, 0, 0, 0, 1, 1, 0, 0, 0],\n",
              "       [0, 0, 0, 0, 0, 1, 0, 0, 0, 0, 0, 0, 1, 0, 0, 0, 0],\n",
              "       [0, 0, 0, 0, 0, 1, 0, 0, 0, 0, 0, 0, 1, 0, 0, 0, 0],\n",
              "       [0, 1, 0, 0, 0, 1, 0, 0, 0, 0, 0, 0, 1, 0, 0, 0, 1],\n",
              "       [0, 0, 0, 0, 0, 1, 0, 0, 0, 1, 0, 0, 1, 1, 0, 0, 0],\n",
              "       [1, 0, 0, 0, 0, 1, 0, 0, 1, 0, 0, 0, 1, 0, 0, 0, 0],\n",
              "       [0, 0, 0, 0, 0, 1, 0, 1, 0, 0, 0, 0, 0, 0, 0, 0, 1],\n",
              "       [0, 0, 0, 0, 0, 1, 0, 0, 0, 0, 0, 0, 1, 0, 0, 0, 1],\n",
              "       [0, 1, 0, 0, 0, 1, 0, 0, 0, 1, 0, 0, 1, 0, 0, 0, 1],\n",
              "       [0, 1, 0, 0, 0, 1, 0, 0, 0, 0, 0, 0, 1, 0, 0, 0, 1]])"
            ]
          },
          "metadata": {
            "tags": []
          },
          "execution_count": 22
        }
      ]
    },
    {
      "cell_type": "code",
      "metadata": {
        "colab": {
          "base_uri": "https://localhost:8080/"
        },
        "id": "TkyVy_UQ76gj",
        "outputId": "ea231344-d7de-453a-837c-b20f827d8f99"
      },
      "source": [
        "# Predicciones con el modelo al 4%\n",
        "result_demo_64_2_resnet101 = model_64_2_resnet101.predict(X_demo)\n",
        "np.int_(result_demo_64_2_resnet101.round())"
      ],
      "execution_count": 23,
      "outputs": [
        {
          "output_type": "stream",
          "text": [
            "WARNING:tensorflow:8 out of the last 9 calls to <function Model.make_predict_function.<locals>.predict_function at 0x7f9b0283e268> triggered tf.function retracing. Tracing is expensive and the excessive number of tracings could be due to (1) creating @tf.function repeatedly in a loop, (2) passing tensors with different shapes, (3) passing Python objects instead of tensors. For (1), please define your @tf.function outside of the loop. For (2), @tf.function has experimental_relax_shapes=True option that relaxes argument shapes that can avoid unnecessary retracing. For (3), please refer to https://www.tensorflow.org/tutorials/customization/performance#python_or_tensor_args and https://www.tensorflow.org/api_docs/python/tf/function for  more details.\n"
          ],
          "name": "stdout"
        },
        {
          "output_type": "execute_result",
          "data": {
            "text/plain": [
              "array([[1, 0, 0, 0, 0, 1, 0, 0, 0, 0, 0, 0, 1, 0, 0, 0, 1],\n",
              "       [0, 0, 0, 0, 0, 0, 0, 0, 0, 0, 0, 1, 1, 0, 0, 0, 0],\n",
              "       [0, 0, 0, 0, 0, 1, 0, 0, 0, 0, 0, 0, 1, 0, 0, 0, 0],\n",
              "       [1, 0, 0, 0, 0, 1, 0, 0, 0, 1, 0, 0, 0, 0, 0, 0, 0],\n",
              "       [1, 0, 0, 0, 0, 1, 0, 0, 0, 1, 0, 0, 1, 0, 0, 0, 0],\n",
              "       [1, 0, 0, 0, 0, 1, 0, 0, 1, 0, 0, 0, 1, 0, 0, 0, 0],\n",
              "       [1, 0, 0, 0, 0, 1, 0, 0, 0, 0, 0, 0, 1, 0, 0, 0, 1],\n",
              "       [1, 0, 0, 0, 0, 1, 0, 0, 0, 0, 0, 0, 1, 1, 0, 0, 0],\n",
              "       [0, 0, 0, 0, 0, 1, 0, 0, 0, 1, 0, 0, 1, 1, 0, 0, 0],\n",
              "       [1, 0, 0, 0, 0, 1, 0, 0, 0, 0, 0, 0, 1, 1, 0, 0, 1]])"
            ]
          },
          "metadata": {
            "tags": []
          },
          "execution_count": 23
        }
      ]
    },
    {
      "cell_type": "code",
      "metadata": {
        "id": "FDmhTy707545"
      },
      "source": [
        ""
      ],
      "execution_count": null,
      "outputs": []
    },
    {
      "cell_type": "markdown",
      "metadata": {
        "id": "NVNs0QYDGWxL"
      },
      "source": [
        "## **Cargamos los labels**"
      ]
    },
    {
      "cell_type": "code",
      "metadata": {
        "id": "YHWYppGy6Xq6"
      },
      "source": [
        "import pandas as pd"
      ],
      "execution_count": 24,
      "outputs": []
    },
    {
      "cell_type": "code",
      "metadata": {
        "colab": {
          "base_uri": "https://localhost:8080/",
          "height": 204
        },
        "id": "hF6Vjwuq696K",
        "outputId": "4078c1aa-4e18-4251-ecec-b97e264fb59c"
      },
      "source": [
        "labels_df = pd.read_csv('/content/drive/My Drive/Colab Notebooks/DiplomadoIA/M1_AplicacionesConVisionArtificial/Proyecto_Amazonia/Datos_Entrenamiento/train_v2_dehazed.csv', sep=';')\n",
        "labels_df.head()"
      ],
      "execution_count": 25,
      "outputs": [
        {
          "output_type": "execute_result",
          "data": {
            "text/html": [
              "<div>\n",
              "<style scoped>\n",
              "    .dataframe tbody tr th:only-of-type {\n",
              "        vertical-align: middle;\n",
              "    }\n",
              "\n",
              "    .dataframe tbody tr th {\n",
              "        vertical-align: top;\n",
              "    }\n",
              "\n",
              "    .dataframe thead th {\n",
              "        text-align: right;\n",
              "    }\n",
              "</style>\n",
              "<table border=\"1\" class=\"dataframe\">\n",
              "  <thead>\n",
              "    <tr style=\"text-align: right;\">\n",
              "      <th></th>\n",
              "      <th>image_name</th>\n",
              "      <th>tags</th>\n",
              "    </tr>\n",
              "  </thead>\n",
              "  <tbody>\n",
              "    <tr>\n",
              "      <th>0</th>\n",
              "      <td>train_dehazed_0</td>\n",
              "      <td>haze primary</td>\n",
              "    </tr>\n",
              "    <tr>\n",
              "      <th>1</th>\n",
              "      <td>train_dehazed_1</td>\n",
              "      <td>agriculture clear primary water</td>\n",
              "    </tr>\n",
              "    <tr>\n",
              "      <th>2</th>\n",
              "      <td>train_dehazed_2</td>\n",
              "      <td>clear primary</td>\n",
              "    </tr>\n",
              "    <tr>\n",
              "      <th>3</th>\n",
              "      <td>train_dehazed_3</td>\n",
              "      <td>clear primary</td>\n",
              "    </tr>\n",
              "    <tr>\n",
              "      <th>4</th>\n",
              "      <td>train_dehazed_4</td>\n",
              "      <td>agriculture clear habitation primary road</td>\n",
              "    </tr>\n",
              "  </tbody>\n",
              "</table>\n",
              "</div>"
            ],
            "text/plain": [
              "        image_name                                       tags\n",
              "0  train_dehazed_0                               haze primary\n",
              "1  train_dehazed_1            agriculture clear primary water\n",
              "2  train_dehazed_2                              clear primary\n",
              "3  train_dehazed_3                              clear primary\n",
              "4  train_dehazed_4  agriculture clear habitation primary road"
            ]
          },
          "metadata": {
            "tags": []
          },
          "execution_count": 25
        }
      ]
    },
    {
      "cell_type": "code",
      "metadata": {
        "colab": {
          "base_uri": "https://localhost:8080/",
          "height": 204
        },
        "id": "7gXIVa3M7G0O",
        "outputId": "20be73e4-e3e4-4a4f-8371-d4fbabb661f0"
      },
      "source": [
        "labels_df.groupby('tags').count().reset_index().sort_values('image_name',ascending=False).head(5)"
      ],
      "execution_count": 26,
      "outputs": [
        {
          "output_type": "execute_result",
          "data": {
            "text/html": [
              "<div>\n",
              "<style scoped>\n",
              "    .dataframe tbody tr th:only-of-type {\n",
              "        vertical-align: middle;\n",
              "    }\n",
              "\n",
              "    .dataframe tbody tr th {\n",
              "        vertical-align: top;\n",
              "    }\n",
              "\n",
              "    .dataframe thead th {\n",
              "        text-align: right;\n",
              "    }\n",
              "</style>\n",
              "<table border=\"1\" class=\"dataframe\">\n",
              "  <thead>\n",
              "    <tr style=\"text-align: right;\">\n",
              "      <th></th>\n",
              "      <th>tags</th>\n",
              "      <th>image_name</th>\n",
              "    </tr>\n",
              "  </thead>\n",
              "  <tbody>\n",
              "    <tr>\n",
              "      <th>369</th>\n",
              "      <td>clear primary</td>\n",
              "      <td>13636</td>\n",
              "    </tr>\n",
              "    <tr>\n",
              "      <th>433</th>\n",
              "      <td>partly_cloudy primary</td>\n",
              "      <td>3630</td>\n",
              "    </tr>\n",
              "    <tr>\n",
              "      <th>386</th>\n",
              "      <td>cloudy</td>\n",
              "      <td>2089</td>\n",
              "    </tr>\n",
              "    <tr>\n",
              "      <th>382</th>\n",
              "      <td>clear primary water</td>\n",
              "      <td>1850</td>\n",
              "    </tr>\n",
              "    <tr>\n",
              "      <th>143</th>\n",
              "      <td>agriculture clear primary road</td>\n",
              "      <td>1680</td>\n",
              "    </tr>\n",
              "  </tbody>\n",
              "</table>\n",
              "</div>"
            ],
            "text/plain": [
              "                               tags  image_name\n",
              "369                   clear primary       13636\n",
              "433           partly_cloudy primary        3630\n",
              "386                          cloudy        2089\n",
              "382             clear primary water        1850\n",
              "143  agriculture clear primary road        1680"
            ]
          },
          "metadata": {
            "tags": []
          },
          "execution_count": 26
        }
      ]
    },
    {
      "cell_type": "code",
      "metadata": {
        "colab": {
          "base_uri": "https://localhost:8080/"
        },
        "id": "OXdwNXkP7QAz",
        "outputId": "dac2baa4-f1b1-4e98-8f46-47588adb3e36"
      },
      "source": [
        "labels_df.shape"
      ],
      "execution_count": 27,
      "outputs": [
        {
          "output_type": "execute_result",
          "data": {
            "text/plain": [
              "(40479, 2)"
            ]
          },
          "metadata": {
            "tags": []
          },
          "execution_count": 27
        }
      ]
    },
    {
      "cell_type": "code",
      "metadata": {
        "colab": {
          "base_uri": "https://localhost:8080/"
        },
        "id": "hiT1yglZ7a6A",
        "outputId": "80855c4b-7722-4ec3-f789-8925463d78e3"
      },
      "source": [
        "labels = set()\n",
        "for i in range(len(labels_df)):\n",
        "\ttags = labels_df['tags'][i].split(' ')\n",
        "\tlabels.update(tags)\n",
        "labels"
      ],
      "execution_count": 28,
      "outputs": [
        {
          "output_type": "execute_result",
          "data": {
            "text/plain": [
              "{'agriculture',\n",
              " 'artisinal_mine',\n",
              " 'bare_ground',\n",
              " 'blooming',\n",
              " 'blow_down',\n",
              " 'clear',\n",
              " 'cloudy',\n",
              " 'conventional_mine',\n",
              " 'cultivation',\n",
              " 'habitation',\n",
              " 'haze',\n",
              " 'partly_cloudy',\n",
              " 'primary',\n",
              " 'road',\n",
              " 'selective_logging',\n",
              " 'slash_burn',\n",
              " 'water'}"
            ]
          },
          "metadata": {
            "tags": []
          },
          "execution_count": 28
        }
      ]
    },
    {
      "cell_type": "code",
      "metadata": {
        "colab": {
          "base_uri": "https://localhost:8080/"
        },
        "id": "SUez9ovK7kkW",
        "outputId": "060447ad-3a90-40bc-ecda-2d88bc539077"
      },
      "source": [
        "labels = list(labels)\n",
        "labels.sort()\n",
        "labels"
      ],
      "execution_count": 29,
      "outputs": [
        {
          "output_type": "execute_result",
          "data": {
            "text/plain": [
              "['agriculture',\n",
              " 'artisinal_mine',\n",
              " 'bare_ground',\n",
              " 'blooming',\n",
              " 'blow_down',\n",
              " 'clear',\n",
              " 'cloudy',\n",
              " 'conventional_mine',\n",
              " 'cultivation',\n",
              " 'habitation',\n",
              " 'haze',\n",
              " 'partly_cloudy',\n",
              " 'primary',\n",
              " 'road',\n",
              " 'selective_logging',\n",
              " 'slash_burn',\n",
              " 'water']"
            ]
          },
          "metadata": {
            "tags": []
          },
          "execution_count": 29
        }
      ]
    },
    {
      "cell_type": "code",
      "metadata": {
        "colab": {
          "base_uri": "https://localhost:8080/"
        },
        "id": "a9kk_uPM8Alk",
        "outputId": "bd9643b6-4f19-4d3e-8d31-cfa6a6920f9e"
      },
      "source": [
        "tag_mapping = {labels[i]:i for i in range(len(labels))}\n",
        "tag_mapping"
      ],
      "execution_count": 30,
      "outputs": [
        {
          "output_type": "execute_result",
          "data": {
            "text/plain": [
              "{'agriculture': 0,\n",
              " 'artisinal_mine': 1,\n",
              " 'bare_ground': 2,\n",
              " 'blooming': 3,\n",
              " 'blow_down': 4,\n",
              " 'clear': 5,\n",
              " 'cloudy': 6,\n",
              " 'conventional_mine': 7,\n",
              " 'cultivation': 8,\n",
              " 'habitation': 9,\n",
              " 'haze': 10,\n",
              " 'partly_cloudy': 11,\n",
              " 'primary': 12,\n",
              " 'road': 13,\n",
              " 'selective_logging': 14,\n",
              " 'slash_burn': 15,\n",
              " 'water': 16}"
            ]
          },
          "metadata": {
            "tags": []
          },
          "execution_count": 30
        }
      ]
    },
    {
      "cell_type": "code",
      "metadata": {
        "colab": {
          "base_uri": "https://localhost:8080/"
        },
        "id": "m3ks7iaQ8IDi",
        "outputId": "1cf3aaf2-69a6-49e8-8bd0-4e06cd896999"
      },
      "source": [
        "inv_tag_mapping = {i:labels[i] for i in range(len(labels))}\n",
        "inv_tag_mapping"
      ],
      "execution_count": 31,
      "outputs": [
        {
          "output_type": "execute_result",
          "data": {
            "text/plain": [
              "{0: 'agriculture',\n",
              " 1: 'artisinal_mine',\n",
              " 2: 'bare_ground',\n",
              " 3: 'blooming',\n",
              " 4: 'blow_down',\n",
              " 5: 'clear',\n",
              " 6: 'cloudy',\n",
              " 7: 'conventional_mine',\n",
              " 8: 'cultivation',\n",
              " 9: 'habitation',\n",
              " 10: 'haze',\n",
              " 11: 'partly_cloudy',\n",
              " 12: 'primary',\n",
              " 13: 'road',\n",
              " 14: 'selective_logging',\n",
              " 15: 'slash_burn',\n",
              " 16: 'water'}"
            ]
          },
          "metadata": {
            "tags": []
          },
          "execution_count": 31
        }
      ]
    },
    {
      "cell_type": "markdown",
      "metadata": {
        "id": "rNS74HphnFzE"
      },
      "source": [
        "# Convertimos las predictiones en labels"
      ]
    },
    {
      "cell_type": "code",
      "metadata": {
        "colab": {
          "base_uri": "https://localhost:8080/"
        },
        "id": "5DOmTMuxoiKW",
        "outputId": "f716d6aa-24bb-494a-e419-116c26d4dacd"
      },
      "source": [
        "inv_tag_mapping"
      ],
      "execution_count": 32,
      "outputs": [
        {
          "output_type": "execute_result",
          "data": {
            "text/plain": [
              "{0: 'agriculture',\n",
              " 1: 'artisinal_mine',\n",
              " 2: 'bare_ground',\n",
              " 3: 'blooming',\n",
              " 4: 'blow_down',\n",
              " 5: 'clear',\n",
              " 6: 'cloudy',\n",
              " 7: 'conventional_mine',\n",
              " 8: 'cultivation',\n",
              " 9: 'habitation',\n",
              " 10: 'haze',\n",
              " 11: 'partly_cloudy',\n",
              " 12: 'primary',\n",
              " 13: 'road',\n",
              " 14: 'selective_logging',\n",
              " 15: 'slash_burn',\n",
              " 16: 'water'}"
            ]
          },
          "metadata": {
            "tags": []
          },
          "execution_count": 32
        }
      ]
    },
    {
      "cell_type": "code",
      "metadata": {
        "id": "VNvDcoXDS4t_"
      },
      "source": [
        "import numpy as np"
      ],
      "execution_count": 33,
      "outputs": []
    },
    {
      "cell_type": "code",
      "metadata": {
        "colab": {
          "base_uri": "https://localhost:8080/"
        },
        "id": "TAGo1dMmRsAX",
        "outputId": "1f1ae81b-0a8b-4719-ea92-6be24233150f"
      },
      "source": [
        "y_result_demo_64_vgg16 = np.int_(result_demo_64_vgg16.round())\n",
        "y_result_demo_64_vgg16"
      ],
      "execution_count": 35,
      "outputs": [
        {
          "output_type": "execute_result",
          "data": {
            "text/plain": [
              "array([[0, 0, 0, 0, 0, 1, 0, 0, 0, 0, 0, 0, 1, 0, 0, 0, 1],\n",
              "       [1, 0, 0, 0, 0, 1, 0, 0, 1, 0, 0, 0, 1, 0, 0, 0, 0],\n",
              "       [0, 0, 0, 0, 0, 1, 0, 0, 0, 0, 0, 0, 1, 0, 0, 0, 0],\n",
              "       [0, 1, 0, 0, 0, 1, 0, 0, 0, 0, 0, 0, 1, 0, 0, 0, 1],\n",
              "       [1, 0, 0, 0, 0, 1, 0, 0, 0, 1, 0, 0, 1, 1, 0, 0, 0],\n",
              "       [1, 0, 0, 0, 0, 1, 0, 0, 1, 1, 0, 0, 1, 0, 0, 0, 0],\n",
              "       [1, 0, 0, 0, 0, 1, 0, 0, 0, 0, 0, 0, 1, 1, 0, 0, 1],\n",
              "       [0, 0, 0, 0, 0, 0, 0, 0, 0, 0, 1, 0, 1, 0, 0, 0, 0],\n",
              "       [1, 0, 0, 0, 0, 1, 0, 0, 0, 0, 0, 0, 1, 1, 0, 0, 0],\n",
              "       [0, 1, 0, 0, 0, 1, 0, 0, 0, 0, 0, 0, 1, 1, 0, 0, 1]])"
            ]
          },
          "metadata": {
            "tags": []
          },
          "execution_count": 35
        }
      ]
    },
    {
      "cell_type": "code",
      "metadata": {
        "colab": {
          "base_uri": "https://localhost:8080/"
        },
        "id": "sTCMotqe_4bF",
        "outputId": "b9b3531b-e742-4886-98e8-48cbd0b281e3"
      },
      "source": [
        "j = 0\n",
        "labels_y_result_demo_64_vgg16 = [inv_tag_mapping[i] for i in range(len(y_result_demo_64_vgg16[j])) if y_result_demo_64_vgg16[j][i] == 1.0]\n",
        "labels_y_result_demo_64_vgg16"
      ],
      "execution_count": 39,
      "outputs": [
        {
          "output_type": "execute_result",
          "data": {
            "text/plain": [
              "['clear', 'primary', 'water']"
            ]
          },
          "metadata": {
            "tags": []
          },
          "execution_count": 39
        }
      ]
    },
    {
      "cell_type": "code",
      "metadata": {
        "colab": {
          "base_uri": "https://localhost:8080/"
        },
        "id": "YZLu1ME7TZwQ",
        "outputId": "28d61b3b-cbc1-4141-89c3-7f488a34fa4b"
      },
      "source": [
        "y_result_demo_64_vgg19 = np.int_(result_demo_64_vgg19.round())\n",
        "y_result_demo_64_vgg19"
      ],
      "execution_count": 37,
      "outputs": [
        {
          "output_type": "execute_result",
          "data": {
            "text/plain": [
              "array([[1, 0, 0, 0, 0, 1, 0, 0, 0, 0, 0, 0, 1, 1, 0, 0, 1],\n",
              "       [0, 0, 0, 0, 0, 0, 0, 0, 0, 0, 0, 1, 1, 0, 0, 0, 0],\n",
              "       [0, 0, 0, 0, 0, 1, 0, 0, 0, 0, 0, 0, 1, 0, 0, 0, 0],\n",
              "       [0, 1, 0, 0, 0, 1, 0, 0, 0, 1, 0, 0, 1, 1, 0, 0, 1],\n",
              "       [1, 0, 0, 0, 0, 1, 0, 0, 0, 0, 0, 0, 1, 1, 0, 0, 0],\n",
              "       [1, 0, 0, 0, 0, 1, 0, 0, 1, 0, 0, 0, 1, 0, 0, 0, 0],\n",
              "       [0, 0, 0, 0, 0, 1, 0, 1, 0, 0, 0, 0, 1, 1, 0, 0, 0],\n",
              "       [0, 0, 0, 0, 0, 0, 1, 0, 0, 0, 0, 0, 0, 0, 0, 0, 0],\n",
              "       [1, 0, 0, 0, 0, 1, 0, 0, 0, 0, 0, 0, 1, 1, 0, 0, 1],\n",
              "       [0, 1, 0, 0, 0, 1, 0, 0, 0, 0, 0, 0, 1, 0, 0, 0, 1]])"
            ]
          },
          "metadata": {
            "tags": []
          },
          "execution_count": 37
        }
      ]
    },
    {
      "cell_type": "code",
      "metadata": {
        "colab": {
          "base_uri": "https://localhost:8080/"
        },
        "id": "24fxzKeskx6t",
        "outputId": "aae26db8-95e4-4dde-dcb6-8bd7504b1639"
      },
      "source": [
        "j = 0\n",
        "labels_y_result_demo_64_vgg19 = [inv_tag_mapping[i] for i in range(len(y_result_demo_64_vgg19[j])) if y_result_demo_64_vgg19[j][i] == 1.0]\n",
        "labels_y_result_demo_64_vgg19"
      ],
      "execution_count": 40,
      "outputs": [
        {
          "output_type": "execute_result",
          "data": {
            "text/plain": [
              "['agriculture', 'clear', 'primary', 'road', 'water']"
            ]
          },
          "metadata": {
            "tags": []
          },
          "execution_count": 40
        }
      ]
    }
  ]
}